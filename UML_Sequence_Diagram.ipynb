{
 "cells": [
  {
   "cell_type": "markdown",
   "metadata": {},
   "source": [
    "        +-----------------------+       +------------------+       +-------------------+\n",
    "        |   User Interface      |       |      Server      |       |  Payment Service  |\n",
    "        +-----------------------+       +------------------+       +-------------------+\n",
    "                |                                |                            |\n",
    "                |   Request: Available Movies    |                            |\n",
    "                |------------------------------->|                            |\n",
    "                |                                |                            |\n",
    "                | Response: Display Movies List  |                            |\n",
    "                |<-------------------------------|                            |\n",
    "                |                                |                            |\n",
    "                |Select Movie, Request Showtimes |                            |\n",
    "                |------------------------------->|                            |\n",
    "                |                                |                            |\n",
    "                | Response: Display Showtimes    |                            |\n",
    "                |<-------------------------------|                            |\n",
    "                |                                |                            |\n",
    "                |Select Showtime Request Seat    |                            |\n",
    "                |------------------------------->|                            |\n",
    "                |                                |                            |\n",
    "                | Response: Seat Availability    |                            |\n",
    "                |<-------------------------------|                            |\n",
    "                |                                |                            |\n",
    "                |SelectSeats, Request Reservation|                            |\n",
    "                |------------------------------->|                            |\n",
    "                |                                |                            |\n",
    "                |Response: Disp. Booking Details |                            |\n",
    "                |<-------------------------------|                            |\n",
    "                |                                |                            |\n",
    "                |Response: Disp. Payment Options |                            |\n",
    "                |<-------------------------------|                            |\n",
    "                |                                |                            |\n",
    "                | Request for Payment            |                            |\n",
    "                |------------------------------->|                            |\n",
    "                |                                | Process Payment (Info)     |\n",
    "                |                                |--------------------------->|\n",
    "                |                                |                            |\n",
    "                |                                | Payment Authorized         |\n",
    "                |                                |<---------------------------|\n",
    "                |                                |                            |\n",
    "                |Response: Payment Confirmation  |                            |\n",
    "                |<-------------------------------|                            |\n",
    "                |                                |                            |\n"
   ]
  },
  {
   "cell_type": "markdown",
   "metadata": {},
   "source": []
  }
 ],
 "metadata": {
  "language_info": {
   "name": "python"
  }
 },
 "nbformat": 4,
 "nbformat_minor": 2
}
